{
  "nbformat": 4,
  "nbformat_minor": 0,
  "metadata": {
    "colab": {
      "name": "QR_generator.ipynb",
      "provenance": [],
      "include_colab_link": true
    },
    "kernelspec": {
      "name": "python3",
      "display_name": "Python 3"
    }
  },
  "cells": [
    {
      "cell_type": "markdown",
      "metadata": {
        "id": "view-in-github",
        "colab_type": "text"
      },
      "source": [
        "<a href=\"https://colab.research.google.com/github/sandeep16064/11linefacerecognition/blob/master/QR_generator.ipynb\" target=\"_parent\"><img src=\"https://colab.research.google.com/assets/colab-badge.svg\" alt=\"Open In Colab\"/></a>"
      ]
    },
    {
      "cell_type": "code",
      "metadata": {
        "id": "ebhM2Fhu0TiT"
      },
      "source": [
        "# Import QRCode from pyqrcode \r\n",
        "import pyqrcode \r\n",
        "import png \r\n",
        "from pyqrcode import QRCode \r\n",
        "  \r\n",
        "\r\n",
        "# String which represents the QR code \r\n",
        "s = \"https://datafolkz.co.in\"\r\n",
        "  \r\n",
        "# Generate QR code \r\n",
        "url = pyqrcode.create(s) \r\n",
        "  \r\n",
        "# Create and save the svg file naming \"myqr.svg\" \r\n",
        "url.svg(\"datafolkz_qr.svg\", scale = 8) \r\n",
        "  \r\n",
        "# Create and save the png file naming \"myqr.png\" \r\n",
        "url.png('datafolkz_qr.png', scale = 6) "
      ],
      "execution_count": 5,
      "outputs": []
    },
    {
      "cell_type": "code",
      "metadata": {
        "id": "pURF0Fa64wRs",
        "outputId": "bfb23675-2e90-48fc-ab6a-0e6cb1c7d93c",
        "colab": {
          "base_uri": "https://localhost:8080/"
        }
      },
      "source": [
        "pip install pyqrcode\r\n"
      ],
      "execution_count": 1,
      "outputs": [
        {
          "output_type": "stream",
          "text": [
            "Collecting pyqrcode\n",
            "  Downloading https://files.pythonhosted.org/packages/37/61/f07226075c347897937d4086ef8e55f0a62ae535e28069884ac68d979316/PyQRCode-1.2.1.tar.gz\n",
            "Building wheels for collected packages: pyqrcode\n",
            "  Building wheel for pyqrcode (setup.py) ... \u001b[?25l\u001b[?25hdone\n",
            "  Created wheel for pyqrcode: filename=PyQRCode-1.2.1-cp37-none-any.whl size=36245 sha256=035903b93cf61efdb4329584e67b452acb00b2d6572344e3cc031d31185752b2\n",
            "  Stored in directory: /root/.cache/pip/wheels/54/61/2f/a4f51b09473db5737db0f654ed10eb9a4ee01f83a7412de349\n",
            "Successfully built pyqrcode\n",
            "Installing collected packages: pyqrcode\n",
            "Successfully installed pyqrcode-1.2.1\n"
          ],
          "name": "stdout"
        }
      ]
    },
    {
      "cell_type": "markdown",
      "metadata": {
        "id": "vri7r9fb_F_i"
      },
      "source": [
        ""
      ]
    },
    {
      "cell_type": "code",
      "metadata": {
        "id": "GwnDyHc-_G_M",
        "outputId": "d7bebae3-161e-48f5-8970-6eb70560605f",
        "colab": {
          "base_uri": "https://localhost:8080/"
        }
      },
      "source": [
        "pip install pypng\r\n"
      ],
      "execution_count": 3,
      "outputs": [
        {
          "output_type": "stream",
          "text": [
            "Collecting pypng\n",
            "\u001b[?25l  Downloading https://files.pythonhosted.org/packages/bc/fb/f719f1ac965e2101aa6ea6f54ef8b40f8fbb033f6ad07c017663467f5147/pypng-0.0.20.tar.gz (649kB)\n",
            "\r\u001b[K     |▌                               | 10kB 12.7MB/s eta 0:00:01\r\u001b[K     |█                               | 20kB 14.4MB/s eta 0:00:01\r\u001b[K     |█▌                              | 30kB 8.4MB/s eta 0:00:01\r\u001b[K     |██                              | 40kB 8.4MB/s eta 0:00:01\r\u001b[K     |██▌                             | 51kB 4.2MB/s eta 0:00:01\r\u001b[K     |███                             | 61kB 4.7MB/s eta 0:00:01\r\u001b[K     |███▌                            | 71kB 4.9MB/s eta 0:00:01\r\u001b[K     |████                            | 81kB 5.0MB/s eta 0:00:01\r\u001b[K     |████▌                           | 92kB 5.1MB/s eta 0:00:01\r\u001b[K     |█████                           | 102kB 4.1MB/s eta 0:00:01\r\u001b[K     |█████▌                          | 112kB 4.1MB/s eta 0:00:01\r\u001b[K     |██████                          | 122kB 4.1MB/s eta 0:00:01\r\u001b[K     |██████▋                         | 133kB 4.1MB/s eta 0:00:01\r\u001b[K     |███████                         | 143kB 4.1MB/s eta 0:00:01\r\u001b[K     |███████▋                        | 153kB 4.1MB/s eta 0:00:01\r\u001b[K     |████████                        | 163kB 4.1MB/s eta 0:00:01\r\u001b[K     |████████▋                       | 174kB 4.1MB/s eta 0:00:01\r\u001b[K     |█████████                       | 184kB 4.1MB/s eta 0:00:01\r\u001b[K     |█████████▋                      | 194kB 4.1MB/s eta 0:00:01\r\u001b[K     |██████████                      | 204kB 4.1MB/s eta 0:00:01\r\u001b[K     |██████████▋                     | 215kB 4.1MB/s eta 0:00:01\r\u001b[K     |███████████                     | 225kB 4.1MB/s eta 0:00:01\r\u001b[K     |███████████▋                    | 235kB 4.1MB/s eta 0:00:01\r\u001b[K     |████████████                    | 245kB 4.1MB/s eta 0:00:01\r\u001b[K     |████████████▋                   | 256kB 4.1MB/s eta 0:00:01\r\u001b[K     |█████████████▏                  | 266kB 4.1MB/s eta 0:00:01\r\u001b[K     |█████████████▋                  | 276kB 4.1MB/s eta 0:00:01\r\u001b[K     |██████████████▏                 | 286kB 4.1MB/s eta 0:00:01\r\u001b[K     |██████████████▋                 | 296kB 4.1MB/s eta 0:00:01\r\u001b[K     |███████████████▏                | 307kB 4.1MB/s eta 0:00:01\r\u001b[K     |███████████████▋                | 317kB 4.1MB/s eta 0:00:01\r\u001b[K     |████████████████▏               | 327kB 4.1MB/s eta 0:00:01\r\u001b[K     |████████████████▋               | 337kB 4.1MB/s eta 0:00:01\r\u001b[K     |█████████████████▏              | 348kB 4.1MB/s eta 0:00:01\r\u001b[K     |█████████████████▋              | 358kB 4.1MB/s eta 0:00:01\r\u001b[K     |██████████████████▏             | 368kB 4.1MB/s eta 0:00:01\r\u001b[K     |██████████████████▋             | 378kB 4.1MB/s eta 0:00:01\r\u001b[K     |███████████████████▏            | 389kB 4.1MB/s eta 0:00:01\r\u001b[K     |███████████████████▊            | 399kB 4.1MB/s eta 0:00:01\r\u001b[K     |████████████████████▏           | 409kB 4.1MB/s eta 0:00:01\r\u001b[K     |████████████████████▊           | 419kB 4.1MB/s eta 0:00:01\r\u001b[K     |█████████████████████▏          | 430kB 4.1MB/s eta 0:00:01\r\u001b[K     |█████████████████████▊          | 440kB 4.1MB/s eta 0:00:01\r\u001b[K     |██████████████████████▏         | 450kB 4.1MB/s eta 0:00:01\r\u001b[K     |██████████████████████▊         | 460kB 4.1MB/s eta 0:00:01\r\u001b[K     |███████████████████████▏        | 471kB 4.1MB/s eta 0:00:01\r\u001b[K     |███████████████████████▊        | 481kB 4.1MB/s eta 0:00:01\r\u001b[K     |████████████████████████▏       | 491kB 4.1MB/s eta 0:00:01\r\u001b[K     |████████████████████████▊       | 501kB 4.1MB/s eta 0:00:01\r\u001b[K     |█████████████████████████▎      | 512kB 4.1MB/s eta 0:00:01\r\u001b[K     |█████████████████████████▊      | 522kB 4.1MB/s eta 0:00:01\r\u001b[K     |██████████████████████████▎     | 532kB 4.1MB/s eta 0:00:01\r\u001b[K     |██████████████████████████▊     | 542kB 4.1MB/s eta 0:00:01\r\u001b[K     |███████████████████████████▎    | 552kB 4.1MB/s eta 0:00:01\r\u001b[K     |███████████████████████████▊    | 563kB 4.1MB/s eta 0:00:01\r\u001b[K     |████████████████████████████▎   | 573kB 4.1MB/s eta 0:00:01\r\u001b[K     |████████████████████████████▊   | 583kB 4.1MB/s eta 0:00:01\r\u001b[K     |█████████████████████████████▎  | 593kB 4.1MB/s eta 0:00:01\r\u001b[K     |█████████████████████████████▊  | 604kB 4.1MB/s eta 0:00:01\r\u001b[K     |██████████████████████████████▎ | 614kB 4.1MB/s eta 0:00:01\r\u001b[K     |██████████████████████████████▊ | 624kB 4.1MB/s eta 0:00:01\r\u001b[K     |███████████████████████████████▎| 634kB 4.1MB/s eta 0:00:01\r\u001b[K     |███████████████████████████████▉| 645kB 4.1MB/s eta 0:00:01\r\u001b[K     |████████████████████████████████| 655kB 4.1MB/s \n",
            "\u001b[?25hBuilding wheels for collected packages: pypng\n",
            "  Building wheel for pypng (setup.py) ... \u001b[?25l\u001b[?25hdone\n",
            "  Created wheel for pypng: filename=pypng-0.0.20-cp37-none-any.whl size=67163 sha256=65692d1631968b834ba0f4d0d9a4f1b35d20bb30a07b603851f823a550ba763d\n",
            "  Stored in directory: /root/.cache/pip/wheels/41/6b/ef/0493b536b6d4722c2ae9486691b1d49b922b9877922beeabb3\n",
            "Successfully built pypng\n",
            "Installing collected packages: pypng\n",
            "Successfully installed pypng-0.0.20\n"
          ],
          "name": "stdout"
        }
      ]
    }
  ]
}